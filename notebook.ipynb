{
 "metadata": {
  "language_info": {
   "codemirror_mode": {
    "name": "ipython",
    "version": 3
   },
   "file_extension": ".py",
   "mimetype": "text/x-python",
   "name": "python",
   "nbconvert_exporter": "python",
   "pygments_lexer": "ipython3",
   "version": "3.9.4"
  },
  "orig_nbformat": 2,
  "kernelspec": {
   "name": "python394jvsc74a57bd047a0a5c91c3b95620b8b714eff643dbf136a2f475135dbf2703074ce98b794fc",
   "display_name": "Python 3.9.4 64-bit"
  },
  "metadata": {
   "interpreter": {
    "hash": "47a0a5c91c3b95620b8b714eff643dbf136a2f475135dbf2703074ce98b794fc"
   }
  }
 },
 "nbformat": 4,
 "nbformat_minor": 2,
 "cells": [
  {
   "cell_type": "code",
   "execution_count": 5,
   "metadata": {},
   "outputs": [
    {
     "output_type": "stream",
     "name": "stdout",
     "text": [
      "10\n30\n40\n3.0\nSaludo: Hola Mundo !!!\n<class 'int'>\n<class 'str'>\n"
     ]
    }
   ],
   "source": [
    "numero = 10 \n",
    "Numero = 30\n",
    "saludo = \"Hola Mundo !!!\"\n",
    "\n",
    "print(numero)\n",
    "print(Numero)\n",
    "print(numero + Numero)\n",
    "print(Numero / numero)\n",
    "print(\"Saludo: \" + saludo)\n",
    "print(type(numero))\n",
    "print(type(saludo))"
   ]
  },
  {
   "cell_type": "code",
   "execution_count": 1,
   "metadata": {},
   "outputs": [
    {
     "output_type": "stream",
     "name": "stdout",
     "text": [
      "Numero: 5\n25\n40\n30.7\n25.7\n"
     ]
    }
   ],
   "source": [
    "a =5\n",
    "b = \"25\"\n",
    "c = \"25.7\"\n",
    "\n",
    "print(\"Numero: \" + str(a))\n",
    "print(int(b))\n",
    "print(int(b) + 15)\n",
    "print(float(c) + a)\n",
    "print(float(c))"
   ]
  },
  {
   "cell_type": "code",
   "execution_count": 2,
   "metadata": {},
   "outputs": [
    {
     "output_type": "stream",
     "name": "stdout",
     "text": [
      "Hola Mundo\nl\nla Mundo\nHo\nla M\nd\n10\nhola mundo\nHOLA MUNDO\nH+la Mund+\nFalse\n"
     ]
    }
   ],
   "source": [
    "cadena = \"Hola Mundo\"\n",
    "print(cadena)\n",
    "print(cadena[2])\n",
    "print(cadena[2:])\n",
    "print(cadena[:2])\n",
    "print(cadena[2:6])\n",
    "print(cadena[-2])\n",
    "print(len(cadena))\n",
    "print(cadena.lower())\n",
    "print(cadena.upper())\n",
    "print(cadena.replace(\"o\",\"+\"))\n",
    "print(cadena.isdigit())"
   ]
  },
  {
   "cell_type": "code",
   "execution_count": null,
   "metadata": {},
   "outputs": [],
   "source": []
  }
 ]
}